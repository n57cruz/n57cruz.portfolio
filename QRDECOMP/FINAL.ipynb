{
 "cells": [
  {
   "cell_type": "raw",
   "id": "6bddc456-4aba-460c-91b3-f8b53fff2599",
   "metadata": {},
   "source": [
    "NICOLE CRUZ\n",
    "CSCI 166 FINAL\n",
    "CODE"
   ]
  },
  {
   "cell_type": "code",
   "execution_count": 18,
   "id": "635a63f8-67f3-4521-af31-d40dca4cb224",
   "metadata": {},
   "outputs": [
    {
     "name": "stdout",
     "output_type": "stream",
     "text": [
      "B:\n",
      "array([[ 2, -2],\n",
      "       [ 4,  3],\n",
      "       [ 1, -1]])\n",
      "Q:\n",
      "array([[-4.36435780e-01,  7.80720058e-01, -4.47213595e-01],\n",
      "       [-8.72871561e-01, -4.87950036e-01, -4.95102588e-18],\n",
      "       [-2.18217890e-01,  3.90360029e-01,  8.94427191e-01]])\n",
      "R:\n",
      "array([[-4.58257569, -1.52752523],\n",
      "       [ 0.        , -3.41565026],\n",
      "       [ 0.        ,  0.        ]])\n",
      "\n",
      "------------\n",
      "\n",
      "Problem 1 Verification\n",
      "B:\n",
      "array([[ 3,  1,  2],\n",
      "       [-2,  0,  3],\n",
      "       [ 0, -2,  1]])\n",
      "Q:\n",
      "array([[-0.83205029, -0.14824986,  0.53452248],\n",
      "       [ 0.5547002 , -0.22237479,  0.80178373],\n",
      "       [-0.        ,  0.96362411,  0.26726124]])\n",
      "R:\n",
      "array([[-3.60555128e+00, -8.32050294e-01,  0.00000000e+00],\n",
      "       [ 0.00000000e+00, -2.07549809e+00,  8.88178420e-16],\n",
      "       [ 0.00000000e+00,  0.00000000e+00,  3.74165739e+00]])\n",
      "\n",
      "y: \n",
      " [[5]\n",
      " [4]\n",
      " [0]]\n",
      "\n",
      "Q transpose * y:\n",
      " [[-1.94145069]\n",
      " [-1.6307485 ]\n",
      " [ 5.87974732]]\n",
      "\n",
      "Solution:  [0.35714286 0.78571429 1.57142857]\n"
     ]
    }
   ],
   "source": [
    "import scipy\n",
    "from scipy.linalg import qr\n",
    "import numpy as np\n",
    "import pprint\n",
    "\n",
    "B = np.array([[2, -2], [4, 3], [1, -1]])\n",
    "Q, R = qr(B)\n",
    "\n",
    "print(\"B:\")\n",
    "pprint.pprint(B)\n",
    "\n",
    "print (\"Q:\")\n",
    "pprint.pprint(Q)\n",
    "\n",
    "print (\"R:\")\n",
    "pprint.pprint(R)\n",
    "\n",
    "print(\"\\n------------\\n\")\n",
    "print(\"Problem 1 Verification\")\n",
    "A = np.array([[3,1,2], [-2,0,3], [0,-2,1]])\n",
    "Q, R = qr(A)\n",
    "print(\"A:\")\n",
    "pprint.pprint(A)\n",
    "\n",
    "print (\"Q:\")\n",
    "pprint.pprint(Q)\n",
    "\n",
    "print (\"R:\")\n",
    "pprint.pprint(R)\n",
    "\n",
    "y = np.array([[5],[4],[0]])\n",
    "print(\"\\ny: \\n\",y)\n",
    "Qty = np.matmul(Q.transpose(),y)\n",
    "print(\"\\nQ transpose * y:\\n\",Qty)\n",
    "\n",
    "x_un = np.zeros(3)\n",
    "\n",
    "#Back-Subtitution\n",
    "n=3 #Dimension 3\n",
    "for i in range(n-1, -1, -1):\n",
    "    temp = Qty[i]\n",
    "    for j in range(n-1, i, -1):\n",
    "        temp = temp - x_un[j]*R[i,j]\n",
    "        \n",
    "    x_un[i] = temp/R[i,i]\n",
    "\n",
    "print(\"\\nSolution: \",x_un)"
   ]
  },
  {
   "cell_type": "code",
   "execution_count": null,
   "id": "13171408-26d5-44fc-b85d-1427a101b1a8",
   "metadata": {},
   "outputs": [],
   "source": []
  }
 ],
 "metadata": {
  "kernelspec": {
   "display_name": "Python 3",
   "language": "python",
   "name": "python3"
  },
  "language_info": {
   "codemirror_mode": {
    "name": "ipython",
    "version": 3
   },
   "file_extension": ".py",
   "mimetype": "text/x-python",
   "name": "python",
   "nbconvert_exporter": "python",
   "pygments_lexer": "ipython3",
   "version": "3.8.8"
  }
 },
 "nbformat": 4,
 "nbformat_minor": 5
}
