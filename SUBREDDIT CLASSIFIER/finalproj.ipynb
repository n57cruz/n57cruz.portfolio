{
 "cells": [
  {
   "cell_type": "raw",
   "id": "822ad5e8-932a-4e8f-8bd5-129292920b3c",
   "metadata": {},
   "source": [
    "NICOLE CRUZ\n",
    "CSCI 183\n",
    "FINAL PROJECT\n",
    "\n",
    "original --> 2591, unclean\n",
    "subreddits --> names only of the unbanned/unprivated ones\n",
    "reddit_data --> w/o target\n",
    "reddit_cleaned --> w/ target"
   ]
  },
  {
   "cell_type": "code",
   "execution_count": 1,
   "id": "c61fdb38-9689-4cba-9051-0e113b88bb2b",
   "metadata": {},
   "outputs": [
    {
     "name": "stdout",
     "output_type": "stream",
     "text": [
      "Requirement already satisfied: praw in /Users/lunamon57/opt/anaconda3/lib/python3.8/site-packages (7.5.0)\n",
      "Requirement already satisfied: prawcore<3,>=2.1 in /Users/lunamon57/opt/anaconda3/lib/python3.8/site-packages (from praw) (2.3.0)\n",
      "Requirement already satisfied: update-checker>=0.18 in /Users/lunamon57/opt/anaconda3/lib/python3.8/site-packages (from praw) (0.18.0)\n",
      "Requirement already satisfied: websocket-client>=0.54.0 in /Users/lunamon57/opt/anaconda3/lib/python3.8/site-packages (from praw) (1.2.1)\n",
      "Requirement already satisfied: requests<3.0,>=2.6.0 in /Users/lunamon57/opt/anaconda3/lib/python3.8/site-packages (from prawcore<3,>=2.1->praw) (2.25.1)\n",
      "Requirement already satisfied: urllib3<1.27,>=1.21.1 in /Users/lunamon57/opt/anaconda3/lib/python3.8/site-packages (from requests<3.0,>=2.6.0->prawcore<3,>=2.1->praw) (1.26.4)\n",
      "Requirement already satisfied: idna<3,>=2.5 in /Users/lunamon57/opt/anaconda3/lib/python3.8/site-packages (from requests<3.0,>=2.6.0->prawcore<3,>=2.1->praw) (2.10)\n",
      "Requirement already satisfied: chardet<5,>=3.0.2 in /Users/lunamon57/opt/anaconda3/lib/python3.8/site-packages (from requests<3.0,>=2.6.0->prawcore<3,>=2.1->praw) (4.0.0)\n",
      "Requirement already satisfied: certifi>=2017.4.17 in /Users/lunamon57/opt/anaconda3/lib/python3.8/site-packages (from requests<3.0,>=2.6.0->prawcore<3,>=2.1->praw) (2020.12.5)\n",
      "Note: you may need to restart the kernel to use updated packages.\n"
     ]
    }
   ],
   "source": [
    "pip install praw"
   ]
  },
  {
   "cell_type": "code",
   "execution_count": 1,
   "id": "ce23eb51-b648-4395-8f85-6d88b9fb8399",
   "metadata": {},
   "outputs": [
    {
     "name": "stdout",
     "output_type": "stream",
     "text": [
      "True\n"
     ]
    }
   ],
   "source": [
    "#MUST BE RUN IN ORDER FOR A REDDIT INSTANCE TO BE MADE\n",
    "#---------------------------------------------\n",
    "\n",
    "import praw\n",
    "\n",
    "reddit = praw.Reddit(\n",
    "    client_id=\"CfN3p_JEL4a5KCh-meyEVw\",\n",
    "    client_secret=\"AZTvhYrIR5zi8gRIhUDqid44qUPgIQ\",\n",
    "    user_agent=\"analysis by u/EggsonEgged\",\n",
    ")\n",
    "print(reddit.read_only)"
   ]
  },
  {
   "cell_type": "code",
   "execution_count": null,
   "id": "c3b8b887-0e7d-4591-add8-66eb0d70016e",
   "metadata": {
    "tags": []
   },
   "outputs": [],
   "source": [
    "#THIS CODE IS NOT TO BE RUN, ONLY TO SHOW HOW DATA COLLECTION OCCURRED\n",
    "#------------------------------------------------------------------------\n",
    "import csv\n",
    "import pandas as pd\n",
    "from csv import DictWriter\n",
    "data = pd.read_csv(\"subreddits.csv\")\n",
    "\n",
    "data_list=[]\n",
    "\n",
    "def topscore(name):\n",
    "    subreddit = reddit.subreddit(\"\"+name)\n",
    "    avgscore=0\n",
    "    for submission in subreddit.top(limit=100):\n",
    "        avgscore+=submission.upvote_ratio\n",
    "    return avgscore/100\n",
    "\n",
    "def hotscore(name):\n",
    "    subreddit = reddit.subreddit(\"\"+name)\n",
    "    avgscore=0\n",
    "    for submission in subreddit.hot(limit=100):\n",
    "        avgscore+=submission.upvote_ratio\n",
    "    return avgscore/100\n",
    "\n",
    "def contscore(name):\n",
    "    subreddit = reddit.subreddit(\"\"+name)\n",
    "    avgscore=0\n",
    "    for submission in subreddit.controversial(limit=100):\n",
    "        avgscore+=submission.upvote_ratio\n",
    "    return avgscore/100\n",
    "\n",
    "def risescore(name):\n",
    "    subreddit = reddit.subreddit(\"\"+name)\n",
    "    avgscore=0\n",
    "    for submission in subreddit.rising(limit=100):\n",
    "        avgscore+=submission.upvote_ratio\n",
    "    return avgscore/100\n",
    "\n",
    "def activeUserCount(name):\n",
    "    subreddit = reddit.subreddit(\"\"+name)\n",
    "    return subreddit.active_user_count\n",
    "\n",
    "#names of subreddits\n",
    "count=0\n",
    "header=['name','ratio_top','ratio_hot','ratio_cont','ratio_rise','user_count']\n",
    "for subreddit in data.values:\n",
    "    sample ={'name':\"\",\n",
    "        'ratio_top':0,\n",
    "        'ratio_hot':0,\n",
    "        'ratio_cont':0,\n",
    "        'ratio_rise':0,\n",
    "        'user_count':0}\n",
    "    sr = \"\"+subreddit.item(0)\n",
    "    sample['name']=sr\n",
    "    sample['ratio_top']=topscore(sr)\n",
    "    sample['ratio_hot']=hotscore(sr)\n",
    "    sample['ratio_cont']=contscore(sr)\n",
    "    sample['ratio_rise']=risescore(sr)\n",
    "    sample['user_count']=activeUserCount(sr)\n",
    "    print(\"Data appended\",count)\n",
    "    count+=1\n",
    "    #data_list.append(sample)\n",
    "    with open(r'reddit.csv','a') as file:\n",
    "        dictwriter=DictWriter(file,fieldnames=header)\n",
    "        dictwriter.writerow(sample)\n",
    "    file.close()\n",
    "# df=pd.DataFrame(data_list)\n",
    "# df.to_csv('reddit.csv')\n",
    "  "
   ]
  },
  {
   "cell_type": "code",
   "execution_count": 55,
   "id": "efaceaff-40be-4890-89bb-f132ea95a1d1",
   "metadata": {
    "collapsed": true,
    "jupyter": {
     "outputs_hidden": true,
     "source_hidden": true
    },
    "tags": []
   },
   "outputs": [
    {
     "name": "stdout",
     "output_type": "stream",
     "text": [
      "Cheap_Meals 0.9672000000000002 0.8634000000000003 0.5497 0.21539999999999998 43 0\n"
     ]
    }
   ],
   "source": [
    "sr=\"Cheap_Meals\"\n",
    "def topscore(name):\n",
    "    subreddit = reddit.subreddit(\"\"+name)\n",
    "    avgscore=0\n",
    "    for submission in subreddit.top(limit=100):\n",
    "        avgscore+=submission.upvote_ratio\n",
    "    return avgscore/100\n",
    "\n",
    "def hotscore(name):\n",
    "    subreddit = reddit.subreddit(\"\"+name)\n",
    "    avgscore=0\n",
    "    for submission in subreddit.hot(limit=100):\n",
    "        avgscore+=submission.upvote_ratio\n",
    "    return avgscore/100\n",
    "\n",
    "def contscore(name):\n",
    "    subreddit = reddit.subreddit(\"\"+name)\n",
    "    avgscore=0\n",
    "    for submission in subreddit.controversial(limit=100):\n",
    "        avgscore+=submission.upvote_ratio\n",
    "    return avgscore/100\n",
    "\n",
    "def risescore(name):\n",
    "    subreddit = reddit.subreddit(\"\"+name)\n",
    "    avgscore=0\n",
    "    for submission in subreddit.rising(limit=100):\n",
    "        avgscore+=submission.upvote_ratio\n",
    "    return avgscore/100\n",
    "\n",
    "def activeUserCount(name):\n",
    "    subreddit = reddit.subreddit(\"\"+name)\n",
    "    return subreddit.active_user_count\n",
    "\n",
    "def target(sr):\n",
    "        subreddit=reddit.subreddit(\"\"+sr)\n",
    "        if subreddit.active_user_count > 2000:\n",
    "            return 1\n",
    "        else: return 0\n",
    "\n",
    "print(sr,topscore(sr),hotscore(sr),contscore(sr),risescore(sr),activeUserCount(sr),target(sr))"
   ]
  },
  {
   "cell_type": "code",
   "execution_count": 11,
   "id": "4d8d6959-1dad-4169-8ea2-e8d79ddd2c38",
   "metadata": {
    "tags": []
   },
   "outputs": [
    {
     "name": "stdout",
     "output_type": "stream",
     "text": [
      "number of 1's: 1199\n"
     ]
    }
   ],
   "source": [
    "#DATA CLEANING PHASE\n",
    "#------------------------------------------------------------------------\n",
    "#import csv\n",
    "import pandas as pd\n",
    "reddit_data=pd.read_csv(\"reddit_data.csv\")\n",
    "def average(colname):\n",
    "    sum_=0\n",
    "    total=0\n",
    "    for item in reddit_data[colname+'']:\n",
    "        sum_+=item\n",
    "        total+=1\n",
    "    return sum_/total\n",
    "\n",
    "colnames=list(reddit_data.columns.values)\n",
    "avgs = []\n",
    "for name in colnames[1:len(colnames)]:\n",
    "    avgs.append(average(name))\n",
    "\n",
    "adjust_colnames=colnames[1:len(colnames)]\n",
    "\n",
    "targets=[]\n",
    "\n",
    "t0=[] #ratio top\n",
    "t1=[] #ratio hot\n",
    "t2=[] #ratio cont\n",
    "t3=[] #ratio rise\n",
    "t4=[] #user count\n",
    "\n",
    "def target(avg,col,index,t):\n",
    "    for item in reddit_data[col[index]+'']:\n",
    "        if item > avg:\n",
    "            t.append(1)\n",
    "        else:\n",
    "            t.append(0)\n",
    "\n",
    "target(avgs[0],adjust_colnames,0,t0)\n",
    "target(avgs[1],adjust_colnames,1,t1)\n",
    "target(avgs[2],adjust_colnames,2,t2)\n",
    "target(avgs[3],adjust_colnames,3,t3)\n",
    "target(avgs[4],adjust_colnames,4,t4)\n",
    "\n",
    "#If the subreddit (row) has at least 3 features greater than the average, then that will qualify as \"popular\"\n",
    "for i in range(len(t0)):\n",
    "    if (t0[i]+t1[i]+t2[i]+t3[i]+t4[i])>=3:\n",
    "        targets.append(1)\n",
    "    else:\n",
    "        targets.append(0)\n",
    "\n",
    "c=0\n",
    "for item in targets:\n",
    "    if item==1:\n",
    "        c+=1\n",
    "print(\"number of 1's:\",c)\n",
    "\n",
    "reddit_data['target']=targets\n",
    "reddit_data.to_csv('reddit_cleaned.csv',index=False)"
   ]
  },
  {
   "cell_type": "code",
   "execution_count": 2,
   "id": "3353d9fe-d9fd-4bc2-8411-ac8927e517db",
   "metadata": {},
   "outputs": [
    {
     "data": {
      "text/plain": [
       "Text(0, 0.5, 'ratio_hot')"
      ]
     },
     "execution_count": 2,
     "metadata": {},
     "output_type": "execute_result"
    },
    {
     "data": {
      "image/png": "[encoded data removed]",
      "text/plain": [
       "<Figure size 432x288 with 1 Axes>"
      ]
     },
     "metadata": {
      "needs_background": "light"
     },
     "output_type": "display_data"
    }
   ],
   "source": [
    "import pandas as pd\n",
    "import matplotlib.pyplot as plt\n",
    "data2 = pd.read_csv(\"reddit_cleaned.csv\")\n",
    "x = data2['ratio_top']\n",
    "y = data2['ratio_hot']\n",
    "z = data2['target']\n",
    "plt.scatter(x, y, s=15, c=z, cmap='viridis')\n",
    "#yellow = 1, purple = 0\n",
    "plt.title(\"ratio_top vs. ratio_hot\")\n",
    "plt.xlabel(\"ratio_top\")\n",
    "plt.ylabel(\"ratio_hot\")"
   ]
  },
  {
   "cell_type": "code",
   "execution_count": 3,
   "id": "2cc188f7-28f8-4a88-b75a-3dae4c257cc8",
   "metadata": {},
   "outputs": [
    {
     "data": {
      "text/plain": [
       "Text(0, 0.5, 'ratio_cont')"
      ]
     },
     "execution_count": 3,
     "metadata": {},
     "output_type": "execute_result"
    },
    {
     "data": {
      "image/png": "[encoded data removed]",
      "text/plain": [
       "<Figure size 432x288 with 1 Axes>"
      ]
     },
     "metadata": {
      "needs_background": "light"
     },
     "output_type": "display_data"
    }
   ],
   "source": [
    "import pandas as pd\n",
    "import matplotlib.pyplot as plt\n",
    "data2 = pd.read_csv(\"reddit_cleaned.csv\")\n",
    "x = data2['ratio_top']\n",
    "y = data2['ratio_cont']\n",
    "z = data2['target']\n",
    "plt.scatter(x, y, s=15, c=z, cmap='viridis')\n",
    "#yellow = 1, purple = 0\n",
    "plt.title(\"ratio_top vs. ratio_cont\")\n",
    "plt.xlabel(\"ratio_top\")\n",
    "plt.ylabel(\"ratio_cont\")"
   ]
  },
  {
   "cell_type": "code",
   "execution_count": 4,
   "id": "3a15e8f5-35d3-4838-94a7-36124504fb38",
   "metadata": {},
   "outputs": [
    {
     "data": {
      "text/plain": [
       "Text(0, 0.5, 'ratio_rise')"
      ]
     },
     "execution_count": 4,
     "metadata": {},
     "output_type": "execute_result"
    },
    {
     "data": {
      "image/png": "[encoded data removed]",
      "text/plain": [
       "<Figure size 432x288 with 1 Axes>"
      ]
     },
     "metadata": {
      "needs_background": "light"
     },
     "output_type": "display_data"
    }
   ],
   "source": [
    "import pandas as pd\n",
    "import matplotlib.pyplot as plt\n",
    "data2 = pd.read_csv(\"reddit_cleaned.csv\")\n",
    "x = data2['ratio_top']\n",
    "y = data2['ratio_rise']\n",
    "z = data2['target']\n",
    "plt.scatter(x, y, s=15, c=z, cmap='viridis')\n",
    "#yellow = 1, purple = 0\n",
    "plt.title(\"ratio_top vs. ratio_rise\")\n",
    "plt.xlabel(\"ratio_top\")\n",
    "plt.ylabel(\"ratio_rise\")"
   ]
  },
  {
   "cell_type": "code",
   "execution_count": 5,
   "id": "69d0d176-fbb2-4d80-ae34-6ec03e87f52a",
   "metadata": {},
   "outputs": [
    {
     "data": {
      "text/plain": [
       "Text(0, 0.5, 'user_count')"
      ]
     },
     "execution_count": 5,
     "metadata": {},
     "output_type": "execute_result"
    },
    {
     "data": {
      "image/png": "[encoded data removed]",
      "text/plain": [
       "<Figure size 432x288 with 1 Axes>"
      ]
     },
     "metadata": {
      "needs_background": "light"
     },
     "output_type": "display_data"
    }
   ],
   "source": [
    "import pandas as pd\n",
    "import matplotlib.pyplot as plt\n",
    "data2 = pd.read_csv(\"reddit_cleaned.csv\")\n",
    "x = data2['ratio_top']\n",
    "y = data2['user_count']\n",
    "z = data2['target']\n",
    "plt.scatter(x, y, s=15, c=z, cmap='viridis')\n",
    "#yellow = 1, purple = 0\n",
    "plt.title(\"ratio_top vs. user_count\")\n",
    "plt.xlabel(\"ratio_top\")\n",
    "plt.ylabel(\"user_count\")"
   ]
  },
  {
   "cell_type": "code",
   "execution_count": 6,
   "id": "7c3c1792-4e9d-4948-a8fb-cca12187b1cd",
   "metadata": {},
   "outputs": [
    {
     "data": {
      "text/plain": [
       "Text(0, 0.5, 'ratio_cont')"
      ]
     },
     "execution_count": 6,
     "metadata": {},
     "output_type": "execute_result"
    },
    {
     "data": {
      "image/png": "[encoded data removed]",
      "text/plain": [
       "<Figure size 432x288 with 1 Axes>"
      ]
     },
     "metadata": {
      "needs_background": "light"
     },
     "output_type": "display_data"
    }
   ],
   "source": [
    "import pandas as pd\n",
    "import matplotlib.pyplot as plt\n",
    "data2 = pd.read_csv(\"reddit_cleaned.csv\")\n",
    "x = data2['ratio_hot']\n",
    "y = data2['ratio_cont']\n",
    "z = data2['target']\n",
    "plt.scatter(x, y, s=15, c=z, cmap='viridis')\n",
    "#yellow = 1, purple = 0\n",
    "plt.title(\"ratio_hot vs. ratio_cont\")\n",
    "plt.xlabel(\"ratio_hot\")\n",
    "plt.ylabel(\"ratio_cont\")"
   ]
  },
  {
   "cell_type": "code",
   "execution_count": 7,
   "id": "61587c7d-1292-469f-96ee-ca8b74f569da",
   "metadata": {},
   "outputs": [
    {
     "data": {
      "text/plain": [
       "Text(0, 0.5, 'ratio_rise')"
      ]
     },
     "execution_count": 7,
     "metadata": {},
     "output_type": "execute_result"
    },
    {
     "data": {
      "image/png": "[encoded data removed]",
      "text/plain": [
       "<Figure size 432x288 with 1 Axes>"
      ]
     },
     "metadata": {
      "needs_background": "light"
     },
     "output_type": "display_data"
    }
   ],
   "source": [
    "import pandas as pd\n",
    "import matplotlib.pyplot as plt\n",
    "data2 = pd.read_csv(\"reddit_cleaned.csv\")\n",
    "x = data2['ratio_hot']\n",
    "y = data2['ratio_rise']\n",
    "z = data2['target']\n",
    "plt.scatter(x, y, s=15, c=z, cmap='viridis')\n",
    "#yellow = 1, purple = 0\n",
    "plt.title(\"ratio_hot vs. ratio_rise\")\n",
    "plt.xlabel(\"ratio_hot\")\n",
    "plt.ylabel(\"ratio_rise\")"
   ]
  },
  {
   "cell_type": "code",
   "execution_count": 8,
   "id": "c844ed65-f3a6-4553-b146-5f46a318b6bd",
   "metadata": {},
   "outputs": [
    {
     "data": {
      "text/plain": [
       "Text(0, 0.5, 'user_count')"
      ]
     },
     "execution_count": 8,
     "metadata": {},
     "output_type": "execute_result"
    },
    {
     "data": {
      "image/png": "[encoded data removed]",
      "text/plain": [
       "<Figure size 432x288 with 1 Axes>"
      ]
     },
     "metadata": {
      "needs_background": "light"
     },
     "output_type": "display_data"
    }
   ],
   "source": [
    "import pandas as pd\n",
    "import matplotlib.pyplot as plt\n",
    "data2 = pd.read_csv(\"reddit_cleaned.csv\")\n",
    "x = data2['ratio_hot']\n",
    "y = data2['user_count']\n",
    "z = data2['target']\n",
    "plt.scatter(x, y, s=15, c=z, cmap='viridis')\n",
    "#yellow = 1, purple = 0\n",
    "plt.title(\"ratio_hot vs. user_count\")\n",
    "plt.xlabel(\"ratio_hot\")\n",
    "plt.ylabel(\"user_count\")"
   ]
  },
  {
   "cell_type": "code",
   "execution_count": 9,
   "id": "281500d0-7b76-4eeb-91f3-34f0562816b6",
   "metadata": {},
   "outputs": [
    {
     "data": {
      "text/plain": [
       "Text(0, 0.5, 'user_count')"
      ]
     },
     "execution_count": 9,
     "metadata": {},
     "output_type": "execute_result"
    },
    {
     "data": {
      "image/png": "[encoded data removed]",
      "text/plain": [
       "<Figure size 432x288 with 1 Axes>"
      ]
     },
     "metadata": {
      "needs_background": "light"
     },
     "output_type": "display_data"
    }
   ],
   "source": [
    "import pandas as pd\n",
    "import matplotlib.pyplot as plt\n",
    "data2 = pd.read_csv(\"reddit_cleaned.csv\")\n",
    "x = data2['ratio_cont']\n",
    "y = data2['ratio_rise']\n",
    "z = data2['target']\n",
    "plt.scatter(x, y, s=15, c=z, cmap='viridis')\n",
    "#yellow = 1, purple = 0\n",
    "plt.title(\"ratio_cont vs. ratio_rise\")\n",
    "plt.xlabel(\"ratio_rise\")\n",
    "plt.ylabel(\"user_count\")"
   ]
  },
  {
   "cell_type": "code",
   "execution_count": 10,
   "id": "f95eef89-77f1-4c2a-9ed3-71d97cfc735d",
   "metadata": {},
   "outputs": [
    {
     "data": {
      "text/plain": [
       "Text(0, 0.5, 'user_count')"
      ]
     },
     "execution_count": 10,
     "metadata": {},
     "output_type": "execute_result"
    },
    {
     "data": {
      "image/png": "[encoded data removed]",
      "text/plain": [
       "<Figure size 432x288 with 1 Axes>"
      ]
     },
     "metadata": {
      "needs_background": "light"
     },
     "output_type": "display_data"
    }
   ],
   "source": [
    "import pandas as pd\n",
    "import matplotlib.pyplot as plt\n",
    "data2 = pd.read_csv(\"reddit_cleaned.csv\")\n",
    "x = data2['ratio_cont']\n",
    "y = data2['user_count']\n",
    "z = data2['target']\n",
    "plt.scatter(x, y, s=15, c=z, cmap='viridis')\n",
    "#yellow = 1, purple = 0\n",
    "plt.title(\"ratio_cont vs. user_count\")\n",
    "plt.xlabel(\"ratio_cont\")\n",
    "plt.ylabel(\"user_count\")"
   ]
  },
  {
   "cell_type": "code",
   "execution_count": 104,
   "id": "bea85e93-0a05-4df9-8e00-fa4c9dd5e400",
   "metadata": {},
   "outputs": [
    {
     "data": {
      "text/plain": [
       "Text(0, 0.5, 'user_count')"
      ]
     },
     "execution_count": 104,
     "metadata": {},
     "output_type": "execute_result"
    },
    {
     "data": {
      "image/png": "[encoded data removed]",
      "text/plain": [
       "<Figure size 432x288 with 1 Axes>"
      ]
     },
     "metadata": {
      "needs_background": "light"
     },
     "output_type": "display_data"
    }
   ],
   "source": [
    "import pandas as pd\n",
    "import matplotlib.pyplot as plt\n",
    "data2 = pd.read_csv(\"reddit_cleaned.csv\")\n",
    "x = data2['ratio_rise']\n",
    "y = data2['user_count']\n",
    "z = data2['target']\n",
    "plt.scatter(x, y, s=15, c=z, cmap='viridis')\n",
    "#yellow = 1, purple = 0\n",
    "plt.title(\"ratio_rise vs. user_count\")\n",
    "plt.xlabel(\"ratio_rise\")\n",
    "plt.ylabel(\"user_count\")"
   ]
  },
  {
   "cell_type": "raw",
   "id": "ada3e295-630f-43aa-9913-a97140b41427",
   "metadata": {},
   "source": [
    "Pairings:\n",
    "---------------------------\n",
    "ratio_top & ratio_hot\n",
    "ratio_top & ratio_cont\n",
    "ratio_top & ratio_rise\n",
    "ratio_top & user_count\n",
    "\n",
    "ratio_hot & ratio_cont\n",
    "ratio_hot & ratio_rise\n",
    "ratio_hot & user_count\n",
    "\n",
    "ratio_cont & ratio_rise\n",
    "ratio_cont & user_count\n",
    "\n",
    "ratio_rise & user_count"
   ]
  },
  {
   "cell_type": "code",
   "execution_count": 31,
   "id": "551e1b1a-6da1-4bc1-86cb-bd6f0f68f96b",
   "metadata": {},
   "outputs": [
    {
     "name": "stdout",
     "output_type": "stream",
     "text": [
      "Accuracy: 0.8336633663366336\n",
      "Precision: 0.7830882352941176\n",
      "Recall: 0.8949579831932774\n",
      "F1_Score: 0.8352941176470589\n"
     ]
    }
   ],
   "source": [
    "#ratio_top & ratio_hot\n",
    "import pandas as pd\n",
    "from sklearn.linear_model import LogisticRegression \n",
    "from sklearn.model_selection import train_test_split\n",
    "import sklearn.metrics as metrics\n",
    "\n",
    "data = pd.read_csv(\"reddit_cleaned.csv\")\n",
    "y = data.target.copy()\n",
    "x = data.drop(['name','ratio_cont','ratio_rise','user_count','target'],axis=1)\n",
    "x_train, x_test, y_train, y_test = train_test_split(x,y,test_size = 0.20) \n",
    "\n",
    "logmodel = LogisticRegression()\n",
    "logmodel.fit(x_train,y_train)\n",
    "predictions = logmodel.predict(x_test)\n",
    "\n",
    "print(\"Accuracy:\",metrics.accuracy_score(y_test, predictions))\n",
    "print(\"Precision:\",metrics.precision_score(y_test, predictions))\n",
    "print(\"Recall:\",metrics.recall_score(y_test, predictions))\n",
    "print(\"F1_Score:\",metrics.f1_score(y_test, predictions))\n"
   ]
  },
  {
   "cell_type": "code",
   "execution_count": 8,
   "id": "e449baa7-7323-473f-a739-c9d2128c55e3",
   "metadata": {},
   "outputs": [
    {
     "name": "stdout",
     "output_type": "stream",
     "text": [
      "Accuracy: 0.7207920792079208\n",
      "Precision: 0.8384615384615385\n",
      "Recall: 0.4759825327510917\n",
      "F1_Score: 0.6072423398328691\n"
     ]
    }
   ],
   "source": [
    "#ratio_top & ratio_cont\n",
    "import pandas as pd\n",
    "from sklearn.linear_model import LogisticRegression \n",
    "from sklearn.model_selection import train_test_split\n",
    "import sklearn.metrics as metrics\n",
    "\n",
    "data = pd.read_csv(\"reddit_cleaned.csv\")\n",
    "y = data.target.copy()\n",
    "x = data.drop(['name','ratio_hot','ratio_rise','user_count','target'],axis=1)\n",
    "x_train, x_test, y_train, y_test = train_test_split(x,y,test_size = 0.20) \n",
    "\n",
    "logmodel = LogisticRegression()\n",
    "logmodel.fit(x_train,y_train)\n",
    "predictions = logmodel.predict(x_test)\n",
    "\n",
    "print(\"Accuracy:\",metrics.accuracy_score(y_test, predictions))\n",
    "print(\"Precision:\",metrics.precision_score(y_test, predictions))\n",
    "print(\"Recall:\",metrics.recall_score(y_test, predictions))\n",
    "print(\"F1_Score:\",metrics.f1_score(y_test, predictions))\n"
   ]
  },
  {
   "cell_type": "code",
   "execution_count": 33,
   "id": "c0ef9517-ee95-44b5-93fd-84a84faba919",
   "metadata": {},
   "outputs": [
    {
     "name": "stdout",
     "output_type": "stream",
     "text": [
      "Accuracy: 0.7861386138613862\n",
      "Precision: 0.7378277153558053\n",
      "Recall: 0.8382978723404255\n",
      "F1_Score: 0.7848605577689244\n"
     ]
    }
   ],
   "source": [
    "#ratio_top & ratio_rise\n",
    "import pandas as pd\n",
    "from sklearn.linear_model import LogisticRegression \n",
    "from sklearn.model_selection import train_test_split\n",
    "import sklearn.metrics as metrics\n",
    "\n",
    "data = pd.read_csv(\"reddit_cleaned.csv\")\n",
    "y = data.target.copy()\n",
    "x = data.drop(['name','ratio_hot','ratio_cont','user_count','target'],axis=1)\n",
    "x_train, x_test, y_train, y_test = train_test_split(x,y,test_size = 0.20) \n",
    "\n",
    "logmodel = LogisticRegression()\n",
    "logmodel.fit(x_train,y_train)\n",
    "predictions = logmodel.predict(x_test)\n",
    "\n",
    "print(\"Accuracy:\",metrics.accuracy_score(y_test, predictions))\n",
    "print(\"Precision:\",metrics.precision_score(y_test, predictions))\n",
    "print(\"Recall:\",metrics.recall_score(y_test, predictions))\n",
    "print(\"F1_Score:\",metrics.f1_score(y_test, predictions))\n"
   ]
  },
  {
   "cell_type": "code",
   "execution_count": 10,
   "id": "fa9b4b0d-ca86-4d4f-afea-2dfdc3dc6f1f",
   "metadata": {},
   "outputs": [
    {
     "name": "stdout",
     "output_type": "stream",
     "text": [
      "Accuracy: 0.7524752475247525\n",
      "Precision: 0.7341269841269841\n",
      "Recall: 0.7613168724279835\n",
      "F1_Score: 0.7474747474747474\n"
     ]
    }
   ],
   "source": [
    "#ratio_top & user_count\n",
    "import pandas as pd\n",
    "from sklearn.linear_model import LogisticRegression \n",
    "from sklearn.model_selection import train_test_split\n",
    "import sklearn.metrics as metrics\n",
    "\n",
    "data = pd.read_csv(\"reddit_cleaned.csv\")\n",
    "y = data.target.copy()\n",
    "x = data.drop(['name','ratio_hot','ratio_cont','user_count','target'],axis=1)\n",
    "x_train, x_test, y_train, y_test = train_test_split(x,y,test_size = 0.20) \n",
    "\n",
    "logmodel = LogisticRegression()\n",
    "logmodel.fit(x_train,y_train)\n",
    "predictions = logmodel.predict(x_test)\n",
    "\n",
    "print(\"Accuracy:\",metrics.accuracy_score(y_test, predictions))\n",
    "print(\"Precision:\",metrics.precision_score(y_test, predictions))\n",
    "print(\"Recall:\",metrics.recall_score(y_test, predictions))\n",
    "print(\"F1_Score:\",metrics.f1_score(y_test, predictions))"
   ]
  },
  {
   "cell_type": "code",
   "execution_count": 35,
   "id": "1b376d61-e74e-48ef-800a-8081b6ad6d50",
   "metadata": {},
   "outputs": [
    {
     "name": "stdout",
     "output_type": "stream",
     "text": [
      "Accuracy: 0.7900990099009901\n",
      "Precision: 0.7803921568627451\n",
      "Recall: 0.7991967871485943\n",
      "F1_Score: 0.7896825396825397\n"
     ]
    }
   ],
   "source": [
    "#ratio_hot & ratio_cont\n",
    "import pandas as pd\n",
    "from sklearn.linear_model import LogisticRegression \n",
    "from sklearn.model_selection import train_test_split\n",
    "import sklearn.metrics as metrics\n",
    "\n",
    "data = pd.read_csv(\"reddit_cleaned.csv\")\n",
    "y = data.target.copy()\n",
    "x = data.drop(['name','ratio_top','ratio_rise','user_count','target'],axis=1)\n",
    "x_train, x_test, y_train, y_test = train_test_split(x,y,test_size = 0.20) \n",
    "\n",
    "logmodel = LogisticRegression()\n",
    "logmodel.fit(x_train,y_train)\n",
    "predictions = logmodel.predict(x_test)\n",
    "\n",
    "print(\"Accuracy:\",metrics.accuracy_score(y_test, predictions))\n",
    "print(\"Precision:\",metrics.precision_score(y_test, predictions))\n",
    "print(\"Recall:\",metrics.recall_score(y_test, predictions))\n",
    "print(\"F1_Score:\",metrics.f1_score(y_test, predictions))\n"
   ]
  },
  {
   "cell_type": "code",
   "execution_count": 36,
   "id": "ef0da97d-2793-4567-ab64-0abd18dd17d9",
   "metadata": {},
   "outputs": [
    {
     "name": "stdout",
     "output_type": "stream",
     "text": [
      "Accuracy: 0.8534653465346534\n",
      "Precision: 0.8148148148148148\n",
      "Recall: 0.9016393442622951\n",
      "F1_Score: 0.8560311284046693\n"
     ]
    }
   ],
   "source": [
    "#ratio_hot & ratio_rise\n",
    "import pandas as pd\n",
    "from sklearn.linear_model import LogisticRegression \n",
    "from sklearn.model_selection import train_test_split\n",
    "import sklearn.metrics as metrics\n",
    "\n",
    "data = pd.read_csv(\"reddit_cleaned.csv\")\n",
    "y = data.target.copy()\n",
    "x = data.drop(['name','ratio_top','ratio_cont','user_count','target'],axis=1)\n",
    "x_train, x_test, y_train, y_test = train_test_split(x,y,test_size = 0.20) \n",
    "\n",
    "logmodel = LogisticRegression()\n",
    "logmodel.fit(x_train,y_train)\n",
    "predictions = logmodel.predict(x_test)\n",
    "\n",
    "print(\"Accuracy:\",metrics.accuracy_score(y_test, predictions))\n",
    "print(\"Precision:\",metrics.precision_score(y_test, predictions))\n",
    "print(\"Recall:\",metrics.recall_score(y_test, predictions))\n",
    "print(\"F1_Score:\",metrics.f1_score(y_test, predictions))\n"
   ]
  },
  {
   "cell_type": "code",
   "execution_count": 4,
   "id": "d7fca2de-ebff-495e-8d16-82579ced9fa1",
   "metadata": {},
   "outputs": [
    {
     "name": "stdout",
     "output_type": "stream",
     "text": [
      "Accuracy: 0.7960396039603961\n",
      "Precision: 0.7715355805243446\n",
      "Recall: 0.8306451612903226\n",
      "F1_Score: 0.8\n"
     ]
    }
   ],
   "source": [
    "#ratio_hot & user_count\n",
    "import pandas as pd\n",
    "from sklearn.linear_model import LogisticRegression \n",
    "from sklearn.model_selection import train_test_split\n",
    "import sklearn.metrics as metrics\n",
    "\n",
    "data = pd.read_csv(\"reddit_cleaned.csv\")\n",
    "y = data.target.copy()\n",
    "x = data.drop(['name','ratio_top','ratio_cont','ratio_rise','target'],axis=1)\n",
    "x_train, x_test, y_train, y_test = train_test_split(x,y,test_size = 0.20) \n",
    "\n",
    "logmodel = LogisticRegression()\n",
    "logmodel.fit(x_train,y_train)\n",
    "predictions = logmodel.predict(x_test)\n",
    "\n",
    "print(\"Accuracy:\",metrics.accuracy_score(y_test, predictions))\n",
    "print(\"Precision:\",metrics.precision_score(y_test, predictions))\n",
    "print(\"Recall:\",metrics.recall_score(y_test, predictions))\n",
    "print(\"F1_Score:\",metrics.f1_score(y_test, predictions))\n"
   ]
  },
  {
   "cell_type": "code",
   "execution_count": 7,
   "id": "4004aed3-d499-4b18-8dbe-835ea1bf2796",
   "metadata": {},
   "outputs": [
    {
     "name": "stdout",
     "output_type": "stream",
     "text": [
      "Accuracy: 0.7683168316831683\n",
      "Precision: 0.8628571428571429\n",
      "Recall: 0.6188524590163934\n",
      "F1_Score: 0.720763723150358\n"
     ]
    }
   ],
   "source": [
    "#ratio_cont & ratio_rise\n",
    "import pandas as pd\n",
    "from sklearn.linear_model import LogisticRegression \n",
    "from sklearn.model_selection import train_test_split\n",
    "import sklearn.metrics as metrics\n",
    "\n",
    "data = pd.read_csv(\"reddit_cleaned.csv\")\n",
    "y = data.target.copy()\n",
    "x = data.drop(['name','ratio_top','ratio_hot','user_count','target'],axis=1)\n",
    "x_train, x_test, y_train, y_test = train_test_split(x,y,test_size = 0.20) \n",
    "\n",
    "logmodel = LogisticRegression()\n",
    "logmodel.fit(x_train,y_train)\n",
    "predictions = logmodel.predict(x_test)\n",
    "\n",
    "print(\"Accuracy:\",metrics.accuracy_score(y_test, predictions))\n",
    "print(\"Precision:\",metrics.precision_score(y_test, predictions))\n",
    "print(\"Recall:\",metrics.recall_score(y_test, predictions))\n",
    "print(\"F1_Score:\",metrics.f1_score(y_test, predictions))\n"
   ]
  },
  {
   "cell_type": "code",
   "execution_count": 10,
   "id": "e748bb19-3151-437f-82e9-3ac2a0c9ebbd",
   "metadata": {},
   "outputs": [
    {
     "name": "stdout",
     "output_type": "stream",
     "text": [
      "Accuracy: 0.6633663366336634\n",
      "Precision: 0.8155339805825242\n",
      "Recall: 0.3574468085106383\n",
      "F1_Score: 0.49704142011834324\n"
     ]
    }
   ],
   "source": [
    "#ratio_cont & user_count\n",
    "import pandas as pd\n",
    "from sklearn.linear_model import LogisticRegression \n",
    "from sklearn.model_selection import train_test_split\n",
    "import sklearn.metrics as metrics\n",
    "\n",
    "data = pd.read_csv(\"reddit_cleaned.csv\")\n",
    "y = data.target.copy()\n",
    "x = data.drop(['name','ratio_top','ratio_hot','ratio_rise','target'],axis=1)\n",
    "x_train, x_test, y_train, y_test = train_test_split(x,y,test_size = 0.20) \n",
    "\n",
    "logmodel = LogisticRegression()\n",
    "logmodel.fit(x_train,y_train)\n",
    "predictions = logmodel.predict(x_test)\n",
    "\n",
    "print(\"Accuracy:\",metrics.accuracy_score(y_test, predictions))\n",
    "print(\"Precision:\",metrics.precision_score(y_test, predictions))\n",
    "print(\"Recall:\",metrics.recall_score(y_test, predictions))\n",
    "print(\"F1_Score:\",metrics.f1_score(y_test, predictions))\n"
   ]
  },
  {
   "cell_type": "code",
   "execution_count": 15,
   "id": "d2e459bd-1157-48c4-b18f-c07d8b08bd45",
   "metadata": {},
   "outputs": [
    {
     "name": "stdout",
     "output_type": "stream",
     "text": [
      "Accuracy: 0.7049504950495049\n",
      "Precision: 0.656140350877193\n",
      "Recall: 0.7857142857142857\n",
      "F1_Score: 0.7151051625239006\n"
     ]
    }
   ],
   "source": [
    "#ratio_rise & user_count\n",
    "import pandas as pd\n",
    "from sklearn.linear_model import LogisticRegression \n",
    "from sklearn.model_selection import train_test_split\n",
    "import sklearn.metrics as metrics\n",
    "\n",
    "data = pd.read_csv(\"reddit_cleaned.csv\")\n",
    "y = data.target.copy()\n",
    "x = data.drop(['name','ratio_top','ratio_hot','ratio_cont','target'],axis=1)\n",
    "x_train, x_test, y_train, y_test = train_test_split(x,y,test_size = 0.20) \n",
    "\n",
    "logmodel = LogisticRegression()\n",
    "logmodel.fit(x_train,y_train)\n",
    "predictions = logmodel.predict(x_test)\n",
    "\n",
    "print(\"Accuracy:\",metrics.accuracy_score(y_test, predictions))\n",
    "print(\"Precision:\",metrics.precision_score(y_test, predictions))\n",
    "print(\"Recall:\",metrics.recall_score(y_test, predictions))\n",
    "print(\"F1_Score:\",metrics.f1_score(y_test, predictions))\n"
   ]
  },
  {
   "cell_type": "raw",
   "id": "d0931fc7-1d10-4dff-878e-971d0523b0c0",
   "metadata": {},
   "source": [
    "SVM"
   ]
  },
  {
   "cell_type": "code",
   "execution_count": 19,
   "id": "3cc3ddd8-ea97-4463-93a4-28e331c0a053",
   "metadata": {},
   "outputs": [
    {
     "name": "stdout",
     "output_type": "stream",
     "text": [
      "Accuracy: 0.8376237623762376\n",
      "Precision: 0.8055555555555556\n",
      "Recall: 0.8601694915254238\n",
      "F1_Score: 0.8319672131147542\n"
     ]
    }
   ],
   "source": [
    "#ratio_top & ratio_hot\n",
    "from sklearn import svm\n",
    "from sklearn.model_selection import train_test_split\n",
    "import pandas as pd\n",
    "\n",
    "data = pd.read_csv(\"reddit_cleaned.csv\")\n",
    "y = data.target.copy()\n",
    "x = data.drop(['name','ratio_cont','ratio_rise','user_count','target'],axis=1)\n",
    "\n",
    "x_train, x_test, y_train, y_test = train_test_split(x, y, test_size = 0.20)\n",
    "model = svm.SVC(kernel='linear')\n",
    "model.fit(x_train,y_train)\n",
    "y_pred = model.predict(x_test)\n",
    "\n",
    "import sklearn.metrics as metrics\n",
    "\n",
    "print(\"Accuracy:\",metrics.accuracy_score(y_test,y_pred))\n",
    "print(\"Precision:\",metrics.precision_score(y_test, y_pred))\n",
    "print(\"Recall:\",metrics.recall_score(y_test,y_pred))\n",
    "print(\"F1_Score:\",metrics.f1_score(y_test,y_pred))"
   ]
  },
  {
   "cell_type": "code",
   "execution_count": 20,
   "id": "06d0e674-fcba-4be6-a0a0-0d531e5b7e23",
   "metadata": {},
   "outputs": [
    {
     "name": "stdout",
     "output_type": "stream",
     "text": [
      "Accuracy: 0.6554455445544555\n",
      "Precision: 0.8571428571428571\n",
      "Recall: 0.3076923076923077\n",
      "F1_Score: 0.45283018867924535\n"
     ]
    }
   ],
   "source": [
    "#ratio_top & ratio_cont\n",
    "from sklearn import svm\n",
    "from sklearn.model_selection import train_test_split\n",
    "import pandas as pd\n",
    "\n",
    "data = pd.read_csv(\"reddit_cleaned.csv\")\n",
    "y = data.target.copy()\n",
    "x = data.drop(['name','ratio_hot','ratio_rise','user_count','target'],axis=1)\n",
    "\n",
    "x_train, x_test, y_train, y_test = train_test_split(x, y, test_size = 0.20)\n",
    "model = svm.SVC(kernel='linear')\n",
    "model.fit(x_train,y_train)\n",
    "y_pred = model.predict(x_test)\n",
    "\n",
    "import sklearn.metrics as metrics\n",
    "\n",
    "print(\"Accuracy:\",metrics.accuracy_score(y_test,y_pred))\n",
    "print(\"Precision:\",metrics.precision_score(y_test, y_pred))\n",
    "print(\"Recall:\",metrics.recall_score(y_test,y_pred))\n",
    "print(\"F1_Score:\",metrics.f1_score(y_test,y_pred))"
   ]
  },
  {
   "cell_type": "code",
   "execution_count": 21,
   "id": "7453ebd8-8f33-4ed7-a4f8-d1659aea8c1c",
   "metadata": {},
   "outputs": [
    {
     "name": "stdout",
     "output_type": "stream",
     "text": [
      "Accuracy: 0.7465346534653465\n",
      "Precision: 0.6936026936026936\n",
      "Recall: 0.8477366255144033\n",
      "F1_Score: 0.7629629629629628\n"
     ]
    }
   ],
   "source": [
    "#ratio_top & ratio_rise\n",
    "from sklearn import svm\n",
    "from sklearn.model_selection import train_test_split\n",
    "import pandas as pd\n",
    "\n",
    "data = pd.read_csv(\"reddit_cleaned.csv\")\n",
    "y = data.target.copy()\n",
    "x = data.drop(['name','ratio_hot','ratio_cont','user_count','target'],axis=1)\n",
    "\n",
    "x_train, x_test, y_train, y_test = train_test_split(x, y, test_size = 0.20)\n",
    "model = svm.SVC(kernel='linear')\n",
    "model.fit(x_train,y_train)\n",
    "y_pred = model.predict(x_test)\n",
    "\n",
    "import sklearn.metrics as metrics\n",
    "\n",
    "print(\"Accuracy:\",metrics.accuracy_score(y_test,y_pred))\n",
    "print(\"Precision:\",metrics.precision_score(y_test, y_pred))\n",
    "print(\"Recall:\",metrics.recall_score(y_test,y_pred))\n",
    "print(\"F1_Score:\",metrics.f1_score(y_test,y_pred))"
   ]
  },
  {
   "cell_type": "code",
   "execution_count": 1,
   "id": "b29c92c3-13d2-4086-a1be-d6a49e6be554",
   "metadata": {},
   "outputs": [
    {
     "name": "stdout",
     "output_type": "stream",
     "text": [
      "Accuracy: 0.7425742574257426\n",
      "Precision: 0.6833333333333333\n",
      "Recall: 0.8541666666666666\n",
      "F1_Score: 0.7592592592592592\n"
     ]
    }
   ],
   "source": [
    "#ratio_top & user_count\n",
    "from sklearn import svm\n",
    "from sklearn.model_selection import train_test_split\n",
    "import pandas as pd\n",
    "\n",
    "data = pd.read_csv(\"reddit_cleaned.csv\")\n",
    "y = data.target.copy()\n",
    "x = data.drop(['name','ratio_hot','ratio_cont','user_count','target'],axis=1)\n",
    "\n",
    "x_train, x_test, y_train, y_test = train_test_split(x, y, test_size = 0.20)\n",
    "model = svm.SVC(kernel='linear')\n",
    "model.fit(x_train,y_train)\n",
    "y_pred = model.predict(x_test)\n",
    "\n",
    "import sklearn.metrics as metrics\n",
    "\n",
    "print(\"Accuracy:\",metrics.accuracy_score(y_test,y_pred))\n",
    "print(\"Precision:\",metrics.precision_score(y_test, y_pred))\n",
    "print(\"Recall:\",metrics.recall_score(y_test,y_pred))\n",
    "print(\"F1_Score:\",metrics.f1_score(y_test,y_pred))"
   ]
  },
  {
   "cell_type": "code",
   "execution_count": 2,
   "id": "d4c4b059-53a6-4ecd-901f-30c5340442b4",
   "metadata": {},
   "outputs": [
    {
     "name": "stdout",
     "output_type": "stream",
     "text": [
      "Accuracy: 0.801980198019802\n",
      "Precision: 0.7218045112781954\n",
      "Recall: 0.8807339449541285\n",
      "F1_Score: 0.7933884297520661\n"
     ]
    }
   ],
   "source": [
    "#ratio_hot & ratio_cont\n",
    "from sklearn import svm\n",
    "from sklearn.model_selection import train_test_split\n",
    "import pandas as pd\n",
    "\n",
    "data = pd.read_csv(\"reddit_cleaned.csv\")\n",
    "y = data.target.copy()\n",
    "x = data.drop(['name','ratio_top','ratio_rise','user_count','target'],axis=1)\n",
    "\n",
    "x_train, x_test, y_train, y_test = train_test_split(x, y, test_size = 0.20)\n",
    "model = svm.SVC(kernel='linear')\n",
    "model.fit(x_train,y_train)\n",
    "y_pred = model.predict(x_test)\n",
    "\n",
    "import sklearn.metrics as metrics\n",
    "\n",
    "print(\"Accuracy:\",metrics.accuracy_score(y_test,y_pred))\n",
    "print(\"Precision:\",metrics.precision_score(y_test, y_pred))\n",
    "print(\"Recall:\",metrics.recall_score(y_test,y_pred))\n",
    "print(\"F1_Score:\",metrics.f1_score(y_test,y_pred))"
   ]
  },
  {
   "cell_type": "code",
   "execution_count": 1,
   "id": "c76e96b2-7bd7-4ed9-8560-9652aab21f01",
   "metadata": {},
   "outputs": [
    {
     "name": "stdout",
     "output_type": "stream",
     "text": [
      "Accuracy: 0.8356435643564356\n",
      "Precision: 0.7725490196078432\n",
      "Recall: 0.8873873873873874\n",
      "F1_Score: 0.8259958071278827\n"
     ]
    }
   ],
   "source": [
    "#ratio_hot & ratio_rise\n",
    "from sklearn import svm\n",
    "from sklearn.model_selection import train_test_split\n",
    "import pandas as pd\n",
    "\n",
    "data = pd.read_csv(\"reddit_cleaned.csv\")\n",
    "y = data.target.copy()\n",
    "x = data.drop(['name','ratio_top','ratio_cont','user_count','target'],axis=1)\n",
    "\n",
    "x_train, x_test, y_train, y_test = train_test_split(x, y, test_size = 0.20)\n",
    "model = svm.SVC(kernel='linear')\n",
    "model.fit(x_train,y_train)\n",
    "y_pred = model.predict(x_test)\n",
    "\n",
    "import sklearn.metrics as metrics\n",
    "\n",
    "print(\"Accuracy:\",metrics.accuracy_score(y_test,y_pred))\n",
    "print(\"Precision:\",metrics.precision_score(y_test, y_pred))\n",
    "print(\"Recall:\",metrics.recall_score(y_test,y_pred))\n",
    "print(\"F1_Score:\",metrics.f1_score(y_test,y_pred))"
   ]
  },
  {
   "cell_type": "code",
   "execution_count": null,
   "id": "25c619e7-a3db-4b3c-8be3-7f3c524d73e7",
   "metadata": {},
   "outputs": [],
   "source": [
    "#ratio_hot & user_count\n",
    "from sklearn import svm\n",
    "from sklearn.model_selection import train_test_split\n",
    "import pandas as pd\n",
    "\n",
    "data = pd.read_csv(\"reddit_cleaned.csv\")\n",
    "y = data.target.copy()\n",
    "x = data.drop(['name','ratio_top','ratio_cont','ratio_rise','target'],axis=1)\n",
    "\n",
    "x_train, x_test, y_train, y_test = train_test_split(x, y, test_size = 0.20)\n",
    "model = svm.SVC(kernel='linear')\n",
    "model.fit(x_train,y_train)\n",
    "y_pred = model.predict(x_test)\n",
    "\n",
    "import sklearn.metrics as metrics\n",
    "\n",
    "print(\"Accuracy:\",metrics.accuracy_score(y_test,y_pred))\n",
    "print(\"Precision:\",metrics.precision_score(y_test, y_pred))\n",
    "print(\"Recall:\",metrics.recall_score(y_test,y_pred))\n",
    "print(\"F1_Score:\",metrics.f1_score(y_test,y_pred))"
   ]
  },
  {
   "cell_type": "code",
   "execution_count": null,
   "id": "9bfeda5e-dc77-4017-ab4d-3b19a279bb9b",
   "metadata": {},
   "outputs": [],
   "source": [
    "#ratio_cont & ratio_rise\n",
    "from sklearn import svm\n",
    "from sklearn.model_selection import train_test_split\n",
    "import pandas as pd\n",
    "\n",
    "data = pd.read_csv(\"reddit_cleaned.csv\")\n",
    "y = data.target.copy()\n",
    "x = data.drop(['name','ratio_top','ratio_hot','user_count','target'],axis=1)\n",
    "\n",
    "x_train, x_test, y_train, y_test = train_test_split(x, y, test_size = 0.20)\n",
    "model = svm.SVC(kernel='linear')\n",
    "model.fit(x_train,y_train)\n",
    "y_pred = model.predict(x_test)\n",
    "\n",
    "import sklearn.metrics as metrics\n",
    "\n",
    "print(\"Accuracy:\",metrics.accuracy_score(y_test,y_pred))\n",
    "print(\"Precision:\",metrics.precision_score(y_test, y_pred))\n",
    "print(\"Recall:\",metrics.recall_score(y_test,y_pred))\n",
    "print(\"F1_Score:\",metrics.f1_score(y_test,y_pred))"
   ]
  },
  {
   "cell_type": "code",
   "execution_count": null,
   "id": "a6205b30-b8bd-4b18-9cb5-43af4f0334e6",
   "metadata": {},
   "outputs": [],
   "source": [
    "#ratio_cont & user_count\n",
    "from sklearn import svm\n",
    "from sklearn.model_selection import train_test_split\n",
    "import pandas as pd\n",
    "\n",
    "data = pd.read_csv(\"reddit_cleaned.csv\")\n",
    "y = data.target.copy()\n",
    "x = data.drop(['name','ratio_top','ratio_hot','ratio_rise','target'],axis=1)\n",
    "\n",
    "x_train, x_test, y_train, y_test = train_test_split(x, y, test_size = 0.20)\n",
    "model = svm.SVC(kernel='linear')\n",
    "model.fit(x_train,y_train)\n",
    "y_pred = model.predict(x_test)\n",
    "\n",
    "import sklearn.metrics as metrics\n",
    "\n",
    "print(\"Accuracy:\",metrics.accuracy_score(y_test,y_pred))\n",
    "print(\"Precision:\",metrics.precision_score(y_test, y_pred))\n",
    "print(\"Recall:\",metrics.recall_score(y_test,y_pred))\n",
    "print(\"F1_Score:\",metrics.f1_score(y_test,y_pred))"
   ]
  },
  {
   "cell_type": "code",
   "execution_count": null,
   "id": "44bc4428-9a7f-4b8d-a008-8bb1ba81c5d2",
   "metadata": {},
   "outputs": [],
   "source": [
    "#ratio_rise & user_count\n",
    "from sklearn import svm\n",
    "from sklearn.model_selection import train_test_split\n",
    "import pandas as pd\n",
    "\n",
    "data = pd.read_csv(\"reddit_cleaned.csv\")\n",
    "y = data.target.copy()\n",
    "x = data.drop(['name','ratio_top','ratio_hot','ratio_cont','target'],axis=1)\n",
    "\n",
    "x_train, x_test, y_train, y_test = train_test_split(x, y, test_size = 0.20)\n",
    "model = svm.SVC(kernel='linear')\n",
    "model.fit(x_train,y_train)\n",
    "y_pred = model.predict(x_test)\n",
    "\n",
    "import sklearn.metrics as metrics\n",
    "\n",
    "print(\"Accuracy:\",metrics.accuracy_score(y_test,y_pred))\n",
    "print(\"Precision:\",metrics.precision_score(y_test, y_pred))\n",
    "print(\"Recall:\",metrics.recall_score(y_test,y_pred))\n",
    "print(\"F1_Score:\",metrics.f1_score(y_test,y_pred))"
   ]
  },
  {
   "cell_type": "code",
   "execution_count": null,
   "id": "47409b76-a565-41b0-893d-618950585f89",
   "metadata": {},
   "outputs": [],
   "source": []
  }
 ],
 "metadata": {
  "kernelspec": {
   "display_name": "Python 3",
   "language": "python",
   "name": "python3"
  },
  "language_info": {
   "codemirror_mode": {
    "name": "ipython",
    "version": 3
   },
   "file_extension": ".py",
   "mimetype": "text/x-python",
   "name": "python",
   "nbconvert_exporter": "python",
   "pygments_lexer": "ipython3",
   "version": "3.8.8"
  }
 },
 "nbformat": 4,
 "nbformat_minor": 5
}
